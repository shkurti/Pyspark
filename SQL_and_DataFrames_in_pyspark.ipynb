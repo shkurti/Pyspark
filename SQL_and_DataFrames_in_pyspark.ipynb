{
 "cells": [
  {
   "cell_type": "code",
   "execution_count": 25,
   "metadata": {},
   "outputs": [],
   "source": [
    "import findspark\n",
    "\n",
    "# your path will likely not have 'andonshkurti' in it. Change it to reflect your path.\n",
    "findspark.init('/home/andonshkurti/spark-2.4')"
   ]
  },
  {
   "cell_type": "code",
   "execution_count": 26,
   "metadata": {},
   "outputs": [],
   "source": [
    "import pyspark\n",
    "from pyspark.sql import SQLContext\n",
    "# Start spark\n",
    "sc = pyspark.SparkContext()\n",
    "sqlContext = SQLContext(sc)"
   ]
  },
  {
   "cell_type": "code",
   "execution_count": 27,
   "metadata": {},
   "outputs": [],
   "source": [
    "# Loading a csv file to a dataframe\n",
    "df = sqlContext.read.csv('export.csv', inferSchema=True, header=True)"
   ]
  },
  {
   "cell_type": "code",
   "execution_count": 28,
   "metadata": {},
   "outputs": [
    {
     "name": "stdout",
     "output_type": "stream",
     "text": [
      "+----+-----+---------+-----+-------+-----+-----+-----+----+----+----+\n",
      "| _c0|carat|      cut|color|clarity|depth|table|price|   x|   y|   z|\n",
      "+----+-----+---------+-----+-------+-----+-----+-----+----+----+----+\n",
      "|   1| 0.23|    Ideal|    E|    SI2| 61.5| 55.0|  326|3.95|3.98|2.43|\n",
      "|  10| 0.23|Very Good|    H|    VS1| 59.4| 61.0|  338| 4.0|4.05|2.39|\n",
      "| 100|  0.8|  Premium|    H|    SI1| 61.5| 58.0| 2760|5.97|5.93|3.66|\n",
      "|1000| 1.12|  Premium|    J|    SI2| 60.6| 59.0| 2898|6.68|6.61|4.03|\n",
      "|1001| 0.75|    Ideal|    D|    SI1| 62.3| 55.0| 2898|5.83| 5.8|3.62|\n",
      "| 101| 0.75|Very Good|    D|    SI1| 63.2| 56.0| 2760| 5.8|5.75|3.65|\n",
      "| 102| 0.75|  Premium|    E|    SI1| 59.9| 54.0| 2760| 6.0|5.96|3.58|\n",
      "| 103| 0.74|    Ideal|    G|    SI1| 61.6| 55.0| 2760| 5.8|5.85|3.59|\n",
      "| 104| 0.75|  Premium|    G|    VS2| 61.7| 58.0| 2760|5.85|5.79|3.59|\n",
      "| 105|  0.8|    Ideal|    I|    VS1| 62.9| 56.0| 2760|5.94|5.87|3.72|\n",
      "+----+-----+---------+-----+-------+-----+-----+-----+----+----+----+\n",
      "only showing top 10 rows\n",
      "\n"
     ]
    }
   ],
   "source": [
    "df.show(10)"
   ]
  },
  {
   "cell_type": "code",
   "execution_count": 29,
   "metadata": {},
   "outputs": [
    {
     "name": "stdout",
     "output_type": "stream",
     "text": [
      "root\n",
      " |-- _c0: integer (nullable = true)\n",
      " |-- carat: double (nullable = true)\n",
      " |-- cut: string (nullable = true)\n",
      " |-- color: string (nullable = true)\n",
      " |-- clarity: string (nullable = true)\n",
      " |-- depth: double (nullable = true)\n",
      " |-- table: double (nullable = true)\n",
      " |-- price: integer (nullable = true)\n",
      " |-- x: double (nullable = true)\n",
      " |-- y: double (nullable = true)\n",
      " |-- z: double (nullable = true)\n",
      "\n"
     ]
    }
   ],
   "source": [
    "df.printSchema()"
   ]
  },
  {
   "cell_type": "code",
   "execution_count": 30,
   "metadata": {},
   "outputs": [
    {
     "data": {
      "text/plain": [
       "25"
      ]
     },
     "execution_count": 30,
     "metadata": {},
     "output_type": "execute_result"
    }
   ],
   "source": [
    "# Filtering column and counting\n",
    "df.filter(df.carat == 0.75).count()"
   ]
  },
  {
   "cell_type": "code",
   "execution_count": 31,
   "metadata": {},
   "outputs": [
    {
     "name": "stdout",
     "output_type": "stream",
     "text": [
      "+-----+-----+\n",
      "|carat|count|\n",
      "+-----+-----+\n",
      "| 0.66|    3|\n",
      "| 0.84|    8|\n",
      "| 0.87|    4|\n",
      "| 0.93|    1|\n",
      "| 0.89|    1|\n",
      "|  0.2|    1|\n",
      "| 1.08|    1|\n",
      "| 0.79|   25|\n",
      "| 0.72|   59|\n",
      "| 1.05|    3|\n",
      "|  0.7|  164|\n",
      "| 0.24|   10|\n",
      "| 0.54|    5|\n",
      "| 0.21|    1|\n",
      "| 0.61|    5|\n",
      "| 0.99|    2|\n",
      "| 1.01|   13|\n",
      "|  1.0|   16|\n",
      "|  0.6|    6|\n",
      "| 0.64|    4|\n",
      "+-----+-----+\n",
      "only showing top 20 rows\n",
      "\n"
     ]
    }
   ],
   "source": [
    "# Grouping data and counting\n",
    "df_grouped = df.groupby('carat')\\\n",
    ".count()\\\n",
    ".show()"
   ]
  },
  {
   "cell_type": "code",
   "execution_count": 32,
   "metadata": {},
   "outputs": [
    {
     "name": "stdout",
     "output_type": "stream",
     "text": [
      "+----+-----+---------+-----+-------+-----+-----+-----+----+----+----+\n",
      "| _c0|carat|      cut|color|clarity|depth|table|price|   x|   y|   z|\n",
      "+----+-----+---------+-----+-------+-----+-----+-----+----+----+----+\n",
      "| 660| 1.27|  Premium|    H|    SI2| 59.3| 61.0| 2845|7.12|7.05| 4.2|\n",
      "| 801| 1.22|  Premium|    E|     I1| 60.9| 57.0| 2862|6.93|6.88|4.21|\n",
      "| 377|  1.2|     Fair|    F|     I1| 64.6| 56.0| 2809|6.73|6.66|4.33|\n",
      "| 683|  1.2|Very Good|    H|     I1| 63.1| 60.0| 2850|6.75|6.67|4.23|\n",
      "| 968| 1.19|     Fair|    H|     I1| 65.1| 59.0| 2892|6.62|6.55|4.29|\n",
      "| 173| 1.17|Very Good|    J|     I1| 60.2| 61.0| 2774|6.83| 6.9|4.13|\n",
      "| 526| 1.17|  Premium|    J|     I1| 60.2| 61.0| 2825| 6.9|6.83|4.13|\n",
      "| 702| 1.12|  Premium|    H|     I1| 59.1| 61.0| 2854|6.78|6.75| 4.0|\n",
      "|1000| 1.12|  Premium|    J|    SI2| 60.6| 59.0| 2898|6.68|6.61|4.03|\n",
      "| 845| 1.08|  Premium|    D|     I1| 61.9| 60.0| 2869|6.55|6.48|4.03|\n",
      "| 926| 1.05|  Premium|    H|     I1| 62.0| 59.0| 2881| 6.5|6.47|4.02|\n",
      "| 256| 1.05|     Fair|    J|    SI2| 65.8| 59.0| 2789|6.41|6.27|4.18|\n",
      "| 248| 1.05|Very Good|    J|    SI2| 63.2| 56.0| 2789|6.49|6.45|4.09|\n",
      "| 858| 1.04|  Premium|    I|     I1| 61.6| 61.0| 2870|6.47|6.45|3.98|\n",
      "| 324| 1.04|  Premium|    G|     I1| 62.2| 58.0| 2801|6.46|6.41| 4.0|\n",
      "| 711| 1.03|     Good|    J|    SI1| 63.6| 57.0| 2855|6.38|6.29|4.03|\n",
      "| 935| 1.03|     Fair|    I|    SI2| 65.3| 55.0| 2884|6.32|6.27|4.11|\n",
      "| 445| 1.02|  Premium|    G|     I1| 60.3| 58.0| 2815|6.55| 6.5|3.94|\n",
      "| 716| 1.02|    Ideal|    H|    SI2| 61.6| 55.0| 2856|6.49|6.43|3.98|\n",
      "| 714| 1.02|     Fair|    I|    SI1| 53.0| 63.0| 2856|6.84|6.77|3.66|\n",
      "+----+-----+---------+-----+-------+-----+-----+-----+----+----+----+\n",
      "only showing top 20 rows\n",
      "\n"
     ]
    }
   ],
   "source": [
    "# Sorting data based on column name carat\n",
    "df_sorted = df.sort(df.carat.desc())\\\n",
    ".show()"
   ]
  },
  {
   "cell_type": "code",
   "execution_count": 33,
   "metadata": {},
   "outputs": [],
   "source": [
    "# Filering based on price\n",
    "df_filter_on_price = df.filter(df.price > 2815)"
   ]
  },
  {
   "cell_type": "code",
   "execution_count": 34,
   "metadata": {},
   "outputs": [
    {
     "data": {
      "text/plain": [
       "525"
      ]
     },
     "execution_count": 34,
     "metadata": {},
     "output_type": "execute_result"
    }
   ],
   "source": [
    "# Counting all the diamonds that have price greater then 2815\n",
    "df_filter_on_price.count()"
   ]
  },
  {
   "cell_type": "code",
   "execution_count": 35,
   "metadata": {},
   "outputs": [
    {
     "name": "stdout",
     "output_type": "stream",
     "text": [
      "+-----+-----+\n",
      "|price|count|\n",
      "+-----+-----+\n",
      "| 2866|    5|\n",
      "| 2811|    4|\n",
      "| 2776|    9|\n",
      "| 2821|    9|\n",
      "| 2833|    7|\n",
      "| 2802|    4|\n",
      "| 2874|    9|\n",
      "| 2848|    3|\n",
      "| 2797|   14|\n",
      "| 2835|    6|\n",
      "| 2888|    1|\n",
      "| 2771|    4|\n",
      "| 2842|    2|\n",
      "| 2778|    1|\n",
      "| 2871|    5|\n",
      "| 2857|    5|\n",
      "| 2804|   11|\n",
      "| 2809|    4|\n",
      "|  336|    2|\n",
      "| 2772|    5|\n",
      "+-----+-----+\n",
      "only showing top 20 rows\n",
      "\n"
     ]
    }
   ],
   "source": [
    "group = df.groupBy('price').count().show()"
   ]
  },
  {
   "cell_type": "code",
   "execution_count": 36,
   "metadata": {},
   "outputs": [],
   "source": [
    "# Create a table from the DataFrame df\n",
    "df.registerTempTable('Diamond')"
   ]
  },
  {
   "cell_type": "code",
   "execution_count": 37,
   "metadata": {},
   "outputs": [
    {
     "name": "stdout",
     "output_type": "stream",
     "text": [
      "+----+-----+-----+-----+-------+-----+-----+-----+----+----+----+\n",
      "| _c0|carat|  cut|color|clarity|depth|table|price|   x|   y|   z|\n",
      "+----+-----+-----+-----+-------+-----+-----+-----+----+----+----+\n",
      "|   1| 0.23|Ideal|    E|    SI2| 61.5| 55.0|  326|3.95|3.98|2.43|\n",
      "|1001| 0.75|Ideal|    D|    SI1| 62.3| 55.0| 2898|5.83| 5.8|3.62|\n",
      "| 103| 0.74|Ideal|    G|    SI1| 61.6| 55.0| 2760| 5.8|5.85|3.59|\n",
      "| 105|  0.8|Ideal|    I|    VS1| 62.9| 56.0| 2760|5.94|5.87|3.72|\n",
      "| 106| 0.75|Ideal|    G|    SI1| 62.2| 55.0| 2760|5.87| 5.8|3.63|\n",
      "| 108| 0.74|Ideal|    I|   VVS2| 62.3| 55.0| 2761|5.77|5.81|3.61|\n",
      "| 109| 0.81|Ideal|    F|    SI2| 58.8| 57.0| 2761|6.14|6.11| 3.6|\n",
      "| 110| 0.59|Ideal|    E|   VVS2| 62.0| 55.0| 2761|5.38|5.43|3.35|\n",
      "| 111|  0.8|Ideal|    F|    SI2| 61.4| 57.0| 2761|5.96| 6.0|3.67|\n",
      "| 112| 0.74|Ideal|    E|    SI2| 62.2| 56.0| 2761| 5.8|5.84|3.62|\n",
      "| 115| 0.73|Ideal|    F|    VS2| 62.6| 56.0| 2762|5.77|5.74| 3.6|\n",
      "| 116| 0.73|Ideal|    F|    VS2| 62.7| 53.0| 2762| 5.8|5.75|3.62|\n",
      "| 118| 0.71|Ideal|    G|    VS2| 62.4| 54.0| 2762|5.72|5.76|3.58|\n",
      "| 119|  0.7|Ideal|    E|    VS2| 60.7| 58.0| 2762|5.73|5.76|3.49|\n",
      "|  12| 0.23|Ideal|    J|    VS1| 62.8| 56.0|  340|3.93| 3.9|2.46|\n",
      "| 120|  0.8|Ideal|    F|    SI2| 59.9| 59.0| 2762|6.01|6.07|3.62|\n",
      "| 121| 0.71|Ideal|    D|    SI2| 62.3| 56.0| 2762|5.73|5.69|3.56|\n",
      "| 122| 0.74|Ideal|    E|    SI1| 62.3| 54.0| 2762| 5.8|5.83|3.62|\n",
      "| 131| 0.77|Ideal|    H|    VS2| 62.0| 56.0| 2763|5.89|5.86|3.64|\n",
      "| 133| 0.71|Ideal|    D|    SI1| 61.9| 59.0| 2764|5.69|5.72|3.53|\n",
      "+----+-----+-----+-----+-------+-----+-----+-----+----+----+----+\n",
      "only showing top 20 rows\n",
      "\n"
     ]
    }
   ],
   "source": [
    "# Quering the table Diamond\n",
    "sqlContext.sql(\"SELECT * FROM Diamond WHERE cut = 'Ideal'\").show()"
   ]
  },
  {
   "cell_type": "code",
   "execution_count": 38,
   "metadata": {},
   "outputs": [
    {
     "name": "stdout",
     "output_type": "stream",
     "text": [
      "+---------+\n",
      "|      cut|\n",
      "+---------+\n",
      "|  Premium|\n",
      "|    Ideal|\n",
      "|     Good|\n",
      "|     Fair|\n",
      "|Very Good|\n",
      "+---------+\n",
      "\n"
     ]
    }
   ],
   "source": [
    "# Find all the cuts avelable\n",
    "sqlContext.sql(\"SELECT distinct(cut) FROM Diamond\").show()"
   ]
  },
  {
   "cell_type": "code",
   "execution_count": 39,
   "metadata": {},
   "outputs": [],
   "source": [
    "# Stop spark"
   ]
  },
  {
   "cell_type": "code",
   "execution_count": 40,
   "metadata": {},
   "outputs": [],
   "source": [
    "sc.stop()"
   ]
  },
  {
   "cell_type": "code",
   "execution_count": null,
   "metadata": {},
   "outputs": [],
   "source": []
  },
  {
   "cell_type": "code",
   "execution_count": null,
   "metadata": {},
   "outputs": [],
   "source": []
  },
  {
   "cell_type": "code",
   "execution_count": null,
   "metadata": {},
   "outputs": [],
   "source": []
  },
  {
   "cell_type": "code",
   "execution_count": null,
   "metadata": {},
   "outputs": [],
   "source": []
  }
 ],
 "metadata": {
  "kernelspec": {
   "display_name": "Python 3",
   "language": "python",
   "name": "python3"
  },
  "language_info": {
   "codemirror_mode": {
    "name": "ipython",
    "version": 3
   },
   "file_extension": ".py",
   "mimetype": "text/x-python",
   "name": "python",
   "nbconvert_exporter": "python",
   "pygments_lexer": "ipython3",
   "version": "3.6.8"
  }
 },
 "nbformat": 4,
 "nbformat_minor": 2
}
