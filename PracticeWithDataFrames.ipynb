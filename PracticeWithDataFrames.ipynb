{
 "cells": [
  {
   "cell_type": "code",
   "execution_count": 9,
   "metadata": {},
   "outputs": [],
   "source": [
    "import findspark"
   ]
  },
  {
   "cell_type": "code",
   "execution_count": 10,
   "metadata": {},
   "outputs": [],
   "source": [
    "# your path will likely not have 'matthew' in it. Change it to reflect your path.\n",
    "findspark.init('/home/andonshkurti/spark-2.4')"
   ]
  },
  {
   "cell_type": "code",
   "execution_count": 11,
   "metadata": {},
   "outputs": [],
   "source": [
    "import pyspark\n",
    "from pyspark.sql import SQLContext\n",
    "# Start spark\n",
    "sc = pyspark.SparkContext()\n",
    "sqlContext = SQLContext(sc)"
   ]
  },
  {
   "cell_type": "code",
   "execution_count": 12,
   "metadata": {},
   "outputs": [],
   "source": [
    "Employee = Row(\"firstName\",\"lastName\", \"email\", \"salary\")"
   ]
  },
  {
   "cell_type": "code",
   "execution_count": 13,
   "metadata": {},
   "outputs": [
    {
     "name": "stdout",
     "output_type": "stream",
     "text": [
      "<Row(firstName, lastName, email, salary)>\n"
     ]
    }
   ],
   "source": [
    "print(Employee)"
   ]
  },
  {
   "cell_type": "code",
   "execution_count": 14,
   "metadata": {},
   "outputs": [],
   "source": [
    "employee1 = Employee(\"Donald\",\"Omins\",\"bashararmush@yahoo.com\", 100000)\n",
    "employee2 = Employee(\"Andi\",\"Join\",\"andi@yahoo.com\", 120000)\n",
    "employee3 = Employee(\"Loreta\",\"Will\",\"loreta@yahoo.com\", 150000)\n",
    "employee4 = Employee(\"James\",\"Smith\",\"james@yahoo.com\", 170000)\n",
    "employee5 = Employee(\"Elion\",\"Doee\",\"migena@yahoo.com\", 123000)"
   ]
  },
  {
   "cell_type": "code",
   "execution_count": 15,
   "metadata": {},
   "outputs": [],
   "source": [
    "department1 = Row(id='123456', name=\"HR\")\n",
    "department2 = Row(id='723456', name=\"OPS\")\n",
    "department3 = Row(id='823456', name=\"FN\")\n",
    "department4 = Row(id='923456', name=\"DEV\")"
   ]
  },
  {
   "cell_type": "code",
   "execution_count": 16,
   "metadata": {},
   "outputs": [],
   "source": [
    "departmentWithEmployees1 = Row(department=department1, employees=[employee1,employee2])\n",
    "departmentWithEmployees2 = Row(department=department2, employees=[employee3,employee4,employee5])"
   ]
  },
  {
   "cell_type": "code",
   "execution_count": 17,
   "metadata": {},
   "outputs": [
    {
     "name": "stdout",
     "output_type": "stream",
     "text": [
      "Row(department=Row(id='123456', name='HR'), employees=[Row(firstName='Donald', lastName='Omins', email='bashararmush@yahoo.com', salary=100000), Row(firstName='Andi', lastName='Join', email='andi@yahoo.com', salary=120000)])\n"
     ]
    }
   ],
   "source": [
    "print(departmentWithEmployees1)"
   ]
  },
  {
   "cell_type": "code",
   "execution_count": 18,
   "metadata": {},
   "outputs": [],
   "source": [
    "departmentWithEmployees_Sql = [departmentWithEmployees1,departmentWithEmployees2]\n",
    "dframe = sqlContext.createDataFrame(departmentWithEmployees_Sql)"
   ]
  },
  {
   "cell_type": "code",
   "execution_count": 19,
   "metadata": {},
   "outputs": [
    {
     "name": "stdout",
     "output_type": "stream",
     "text": [
      "+-------------+--------------------+\n",
      "|   department|           employees|\n",
      "+-------------+--------------------+\n",
      "| [123456, HR]|[[Donald, Omins, ...|\n",
      "|[723456, OPS]|[[Loreta, Will, l...|\n",
      "+-------------+--------------------+\n",
      "\n"
     ]
    }
   ],
   "source": [
    "dframe.show()"
   ]
  },
  {
   "cell_type": "code",
   "execution_count": 20,
   "metadata": {},
   "outputs": [],
   "source": [
    "sc.stop()"
   ]
  },
  {
   "cell_type": "code",
   "execution_count": null,
   "metadata": {},
   "outputs": [],
   "source": []
  }
 ],
 "metadata": {
  "kernelspec": {
   "display_name": "Python 3",
   "language": "python",
   "name": "python3"
  },
  "language_info": {
   "codemirror_mode": {
    "name": "ipython",
    "version": 3
   },
   "file_extension": ".py",
   "mimetype": "text/x-python",
   "name": "python",
   "nbconvert_exporter": "python",
   "pygments_lexer": "ipython3",
   "version": "3.6.8"
  }
 },
 "nbformat": 4,
 "nbformat_minor": 2
}
