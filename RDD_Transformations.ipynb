{
 "cells": [
  {
   "cell_type": "code",
   "execution_count": 1,
   "metadata": {},
   "outputs": [],
   "source": [
    "import findspark\n",
    "\n",
    "# your path will likely not have 'andonshkurti' in it. Change it to reflect your path.\n",
    "findspark.init('/home/andonshkurti/spark-2.4')\n",
    "import pyspark\n",
    "from pyspark.sql import SQLContext\n",
    "sc = pyspark.SparkContext()\n",
    "sqlContext = SQLContext(sc)"
   ]
  },
  {
   "cell_type": "code",
   "execution_count": 6,
   "metadata": {},
   "outputs": [],
   "source": [
    "rdd = sc.textFile('export.csv')"
   ]
  },
  {
   "cell_type": "code",
   "execution_count": 7,
   "metadata": {},
   "outputs": [
    {
     "data": {
      "text/plain": [
       "['_c0,carat,cut,color,clarity,depth,table,price,x,y,z',\n",
       " '1,0.23,Ideal,E,SI2,61.5,55,326,3.95,3.98,2.43',\n",
       " '10,0.23,Very Good,H,VS1,59.4,61,338,4,4.05,2.39',\n",
       " '100,0.8,Premium,H,SI1,61.5,58,2760,5.97,5.93,3.66',\n",
       " '1000,1.12,Premium,J,SI2,60.6,59,2898,6.68,6.61,4.03']"
      ]
     },
     "execution_count": 7,
     "metadata": {},
     "output_type": "execute_result"
    }
   ],
   "source": [
    "rdd.take(5)"
   ]
  },
  {
   "cell_type": "code",
   "execution_count": 8,
   "metadata": {},
   "outputs": [],
   "source": [
    "def Func(lines):\n",
    "    lines = lines.lower()\n",
    "    lines = lines.split()\n",
    "    return lines\n",
    "rdd1 = rdd.map(Func)"
   ]
  },
  {
   "cell_type": "code",
   "execution_count": 9,
   "metadata": {},
   "outputs": [
    {
     "data": {
      "text/plain": [
       "[['_c0,carat,cut,color,clarity,depth,table,price,x,y,z'],\n",
       " ['1,0.23,ideal,e,si2,61.5,55,326,3.95,3.98,2.43'],\n",
       " ['10,0.23,very', 'good,h,vs1,59.4,61,338,4,4.05,2.39'],\n",
       " ['100,0.8,premium,h,si1,61.5,58,2760,5.97,5.93,3.66'],\n",
       " ['1000,1.12,premium,j,si2,60.6,59,2898,6.68,6.61,4.03']]"
      ]
     },
     "execution_count": 9,
     "metadata": {},
     "output_type": "execute_result"
    }
   ],
   "source": [
    "rdd1.take(5)"
   ]
  },
  {
   "cell_type": "code",
   "execution_count": 10,
   "metadata": {},
   "outputs": [
    {
     "data": {
      "text/plain": [
       "['_c0,carat,cut,color,clarity,depth,table,price,x,y,z',\n",
       " '1,0.23,ideal,e,si2,61.5,55,326,3.95,3.98,2.43',\n",
       " '10,0.23,very',\n",
       " 'good,h,vs1,59.4,61,338,4,4.05,2.39',\n",
       " '100,0.8,premium,h,si1,61.5,58,2760,5.97,5.93,3.66']"
      ]
     },
     "execution_count": 10,
     "metadata": {},
     "output_type": "execute_result"
    }
   ],
   "source": [
    "rdd2 = rdd.flatMap(Func)\n",
    "rdd2.take(5)"
   ]
  },
  {
   "cell_type": "code",
   "execution_count": 14,
   "metadata": {},
   "outputs": [
    {
     "data": {
      "text/plain": [
       "['_c0,carat,cut,color,clarity,depth,table,price,x,y,z',\n",
       " '1,0.23,ideal,e,si2,61.5,55,326,3.95,3.98,2.43',\n",
       " '10,0.23,very',\n",
       " 'good,h,vs1,59.4,61,338,4,4.05,2.39',\n",
       " '100,0.8,premium,h,si1,61.5,58,2760,5.97,5.93,3.66',\n",
       " '1000,1.12,premium,j,si2,60.6,59,2898,6.68,6.61,4.03',\n",
       " '1001,0.75,ideal,d,si1,62.3,55,2898,5.83,5.8,3.62',\n",
       " '101,0.75,very',\n",
       " 'good,d,si1,63.2,56,2760,5.8,5.75,3.65',\n",
       " '102,0.75,premium,e,si1,59.9,54,2760,6,5.96,3.58']"
      ]
     },
     "execution_count": 14,
     "metadata": {},
     "output_type": "execute_result"
    }
   ],
   "source": [
    "stopwords = ['ideal','e','x']\n",
    "rdd3 = rdd2.filter(lambda x: x not in stopwords)\n",
    "rdd3.take(10)\n"
   ]
  },
  {
   "cell_type": "code",
   "execution_count": 18,
   "metadata": {},
   "outputs": [
    {
     "name": "stdout",
     "output_type": "stream",
     "text": [
      "[('1,', ['1,0.23,ideal,e,si2,61.5,55,326,3.95,3.98,2.43'])]\n"
     ]
    }
   ],
   "source": [
    "# Group by the first three characters\n",
    "rdd4 = rdd3.groupBy(lambda w: w[0:2])\n",
    "print([(k, list(v)) for (k, v) in rdd4.take(1)])"
   ]
  },
  {
   "cell_type": "code",
   "execution_count": 21,
   "metadata": {},
   "outputs": [
    {
     "data": {
      "text/plain": [
       "49995000"
      ]
     },
     "execution_count": 21,
     "metadata": {},
     "output_type": "execute_result"
    }
   ],
   "source": [
    "# Find the sum of 10000 numbers\n",
    "num_rdd = sc.parallelize(range(1,10000))\n",
    "num_rdd.reduce(lambda x,y: x+y)"
   ]
  },
  {
   "cell_type": "code",
   "execution_count": null,
   "metadata": {},
   "outputs": [],
   "source": []
  }
 ],
 "metadata": {
  "kernelspec": {
   "display_name": "Python 3",
   "language": "python",
   "name": "python3"
  },
  "language_info": {
   "codemirror_mode": {
    "name": "ipython",
    "version": 3
   },
   "file_extension": ".py",
   "mimetype": "text/x-python",
   "name": "python",
   "nbconvert_exporter": "python",
   "pygments_lexer": "ipython3",
   "version": "3.6.8"
  }
 },
 "nbformat": 4,
 "nbformat_minor": 2
}
