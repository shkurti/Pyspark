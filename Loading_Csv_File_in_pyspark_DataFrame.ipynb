{
 "cells": [
  {
   "cell_type": "code",
   "execution_count": 1,
   "metadata": {},
   "outputs": [],
   "source": [
    "import findspark\n",
    "\n",
    "# your path will likely not have 'andonshkurti' in it. Change it to reflect your path.\n",
    "findspark.init('/home/andonshkurti/spark-2.4')\n",
    "import pyspark\n",
    "from pyspark.sql import SQLContext\n",
    "sc = pyspark.SparkContext()\n",
    "sqlContext = SQLContext(sc)\n"
   ]
  },
  {
   "cell_type": "code",
   "execution_count": 2,
   "metadata": {
    "scrolled": true
   },
   "outputs": [],
   "source": [
    "df = sqlContext.read.csv('export.csv', header='true', inferSchema='true')"
   ]
  },
  {
   "cell_type": "code",
   "execution_count": 3,
   "metadata": {},
   "outputs": [
    {
     "name": "stdout",
     "output_type": "stream",
     "text": [
      "+----+-----+---------+-----+-------+-----+-----+-----+----+----+----+\n",
      "| _c0|carat|      cut|color|clarity|depth|table|price|   x|   y|   z|\n",
      "+----+-----+---------+-----+-------+-----+-----+-----+----+----+----+\n",
      "|   1| 0.23|    Ideal|    E|    SI2| 61.5| 55.0|  326|3.95|3.98|2.43|\n",
      "|  10| 0.23|Very Good|    H|    VS1| 59.4| 61.0|  338| 4.0|4.05|2.39|\n",
      "| 100|  0.8|  Premium|    H|    SI1| 61.5| 58.0| 2760|5.97|5.93|3.66|\n",
      "|1000| 1.12|  Premium|    J|    SI2| 60.6| 59.0| 2898|6.68|6.61|4.03|\n",
      "|1001| 0.75|    Ideal|    D|    SI1| 62.3| 55.0| 2898|5.83| 5.8|3.62|\n",
      "| 101| 0.75|Very Good|    D|    SI1| 63.2| 56.0| 2760| 5.8|5.75|3.65|\n",
      "| 102| 0.75|  Premium|    E|    SI1| 59.9| 54.0| 2760| 6.0|5.96|3.58|\n",
      "| 103| 0.74|    Ideal|    G|    SI1| 61.6| 55.0| 2760| 5.8|5.85|3.59|\n",
      "| 104| 0.75|  Premium|    G|    VS2| 61.7| 58.0| 2760|5.85|5.79|3.59|\n",
      "| 105|  0.8|    Ideal|    I|    VS1| 62.9| 56.0| 2760|5.94|5.87|3.72|\n",
      "| 106| 0.75|    Ideal|    G|    SI1| 62.2| 55.0| 2760|5.87| 5.8|3.63|\n",
      "| 107|  0.8|  Premium|    G|    SI1| 63.0| 59.0| 2760| 5.9|5.81|3.69|\n",
      "| 108| 0.74|    Ideal|    I|   VVS2| 62.3| 55.0| 2761|5.77|5.81|3.61|\n",
      "| 109| 0.81|    Ideal|    F|    SI2| 58.8| 57.0| 2761|6.14|6.11| 3.6|\n",
      "|  11|  0.3|     Good|    J|    SI1| 64.0| 55.0|  339|4.25|4.28|2.73|\n",
      "| 110| 0.59|    Ideal|    E|   VVS2| 62.0| 55.0| 2761|5.38|5.43|3.35|\n",
      "| 111|  0.8|    Ideal|    F|    SI2| 61.4| 57.0| 2761|5.96| 6.0|3.67|\n",
      "| 112| 0.74|    Ideal|    E|    SI2| 62.2| 56.0| 2761| 5.8|5.84|3.62|\n",
      "| 113|  0.9|  Premium|    I|    VS2| 63.0| 58.0| 2761|6.16|6.12|3.87|\n",
      "| 114| 0.74|Very Good|    G|    SI1| 62.2| 59.0| 2762|5.73|5.82|3.59|\n",
      "+----+-----+---------+-----+-------+-----+-----+-----+----+----+----+\n",
      "only showing top 20 rows\n",
      "\n"
     ]
    }
   ],
   "source": [
    "df.show()"
   ]
  },
  {
   "cell_type": "code",
   "execution_count": 4,
   "metadata": {},
   "outputs": [
    {
     "name": "stdout",
     "output_type": "stream",
     "text": [
      "root\n",
      " |-- _c0: integer (nullable = true)\n",
      " |-- carat: double (nullable = true)\n",
      " |-- cut: string (nullable = true)\n",
      " |-- color: string (nullable = true)\n",
      " |-- clarity: string (nullable = true)\n",
      " |-- depth: double (nullable = true)\n",
      " |-- table: double (nullable = true)\n",
      " |-- price: integer (nullable = true)\n",
      " |-- x: double (nullable = true)\n",
      " |-- y: double (nullable = true)\n",
      " |-- z: double (nullable = true)\n",
      "\n"
     ]
    }
   ],
   "source": [
    "df.printSchema()"
   ]
  },
  {
   "cell_type": "code",
   "execution_count": 5,
   "metadata": {},
   "outputs": [
    {
     "data": {
      "text/plain": [
       "['_c0',\n",
       " 'carat',\n",
       " 'cut',\n",
       " 'color',\n",
       " 'clarity',\n",
       " 'depth',\n",
       " 'table',\n",
       " 'price',\n",
       " 'x',\n",
       " 'y',\n",
       " 'z']"
      ]
     },
     "execution_count": 5,
     "metadata": {},
     "output_type": "execute_result"
    }
   ],
   "source": [
    "df.columns"
   ]
  },
  {
   "cell_type": "code",
   "execution_count": 6,
   "metadata": {},
   "outputs": [
    {
     "data": {
      "text/plain": [
       "1000"
      ]
     },
     "execution_count": 6,
     "metadata": {},
     "output_type": "execute_result"
    }
   ],
   "source": [
    "# Count total number of rows\n",
    "df.count()"
   ]
  },
  {
   "cell_type": "code",
   "execution_count": 7,
   "metadata": {},
   "outputs": [
    {
     "data": {
      "text/plain": [
       "11"
      ]
     },
     "execution_count": 7,
     "metadata": {},
     "output_type": "execute_result"
    }
   ],
   "source": [
    "# Count the total number of columns\n",
    "len(df.columns)"
   ]
  },
  {
   "cell_type": "code",
   "execution_count": 8,
   "metadata": {},
   "outputs": [
    {
     "name": "stdout",
     "output_type": "stream",
     "text": [
      "+-------+-----+\n",
      "|summary|color|\n",
      "+-------+-----+\n",
      "|  count| 1000|\n",
      "|   mean| null|\n",
      "| stddev| null|\n",
      "|    min|    D|\n",
      "|    max|    J|\n",
      "+-------+-----+\n",
      "\n"
     ]
    }
   ],
   "source": [
    "df.describe('color').show()"
   ]
  },
  {
   "cell_type": "code",
   "execution_count": 9,
   "metadata": {},
   "outputs": [
    {
     "name": "stdout",
     "output_type": "stream",
     "text": [
      "+---------+-----+\n",
      "|      cut|price|\n",
      "+---------+-----+\n",
      "|    Ideal|  326|\n",
      "|Very Good|  338|\n",
      "|  Premium| 2760|\n",
      "|  Premium| 2898|\n",
      "|    Ideal| 2898|\n",
      "|Very Good| 2760|\n",
      "|  Premium| 2760|\n",
      "|    Ideal| 2760|\n",
      "|  Premium| 2760|\n",
      "|    Ideal| 2760|\n",
      "|    Ideal| 2760|\n",
      "|  Premium| 2760|\n",
      "|    Ideal| 2761|\n",
      "|    Ideal| 2761|\n",
      "|     Good|  339|\n",
      "|    Ideal| 2761|\n",
      "|    Ideal| 2761|\n",
      "|    Ideal| 2761|\n",
      "|  Premium| 2761|\n",
      "|Very Good| 2762|\n",
      "+---------+-----+\n",
      "only showing top 20 rows\n",
      "\n"
     ]
    }
   ],
   "source": [
    "# Show values from specific columns\n",
    "df.select('cut','price').show()"
   ]
  },
  {
   "cell_type": "code",
   "execution_count": 10,
   "metadata": {},
   "outputs": [
    {
     "name": "stdout",
     "output_type": "stream",
     "text": [
      "+---+-----+-----+-----+-------+-----+-----+-----+----+----+----+\n",
      "|_c0|carat|  cut|color|clarity|depth|table|price|   x|   y|   z|\n",
      "+---+-----+-----+-----+-------+-----+-----+-----+----+----+----+\n",
      "|  1| 0.23|Ideal|    E|    SI2| 61.5| 55.0|  326|3.95|3.98|2.43|\n",
      "+---+-----+-----+-----+-------+-----+-----+-----+----+----+----+\n",
      "\n"
     ]
    }
   ],
   "source": [
    "# Filter columns and return the rows that meet a condition\n",
    "df.filter((df.price=='326') & (df.z=='2.43')).show()"
   ]
  },
  {
   "cell_type": "code",
   "execution_count": 11,
   "metadata": {},
   "outputs": [
    {
     "data": {
      "text/plain": [
       "2"
      ]
     },
     "execution_count": 11,
     "metadata": {},
     "output_type": "execute_result"
    }
   ],
   "source": [
    "# Count rows that meet the condition\n",
    "df.filter(df.price=='326').count()"
   ]
  },
  {
   "cell_type": "code",
   "execution_count": 12,
   "metadata": {},
   "outputs": [
    {
     "name": "stdout",
     "output_type": "stream",
     "text": [
      "+---+-----+---------+-----+-------+-----+-----+-----+----+----+----+\n",
      "|_c0|carat|      cut|color|clarity|depth|table|price|   x|   y|   z|\n",
      "+---+-----+---------+-----+-------+-----+-----+-----+----+----+----+\n",
      "|714| 1.02|     Fair|    I|    SI1| 53.0| 63.0| 2856|6.84|6.77|3.66|\n",
      "|444| 0.96|     Fair|    E|    SI2| 53.1| 63.0| 2815|6.73|6.65|3.55|\n",
      "|713| 0.98|     Fair|    E|    SI2| 53.3| 67.0| 2855|6.82|6.74|3.61|\n",
      "|424| 0.99|     Fair|    J|    SI1| 55.0| 61.0| 2812|6.72|6.67|3.68|\n",
      "|228| 0.84|     Fair|    G|    SI1| 55.1| 67.0| 2782|6.39| 6.2|3.47|\n",
      "| 92| 0.86|     Fair|    E|    SI2| 55.1| 69.0| 2757|6.45|6.33|3.52|\n",
      "|778| 0.75|     Fair|    F|    VS1| 55.8| 70.0| 2859|6.09|5.98|3.37|\n",
      "|441| 0.95|     Fair|    F|    SI2| 56.0| 60.0| 2815|6.62|6.53|3.68|\n",
      "|939|  0.8|     Fair|    E|    SI1| 56.3| 63.0| 2885|6.22|6.14|3.48|\n",
      "|930| 0.88|     Fair|    F|    SI1| 56.6| 65.0| 2882|6.39|6.32| 3.6|\n",
      "|920| 0.72|     Fair|    F|    VS1| 56.9| 69.0| 2879|5.93|5.77|3.33|\n",
      "|  3| 0.23|     Good|    E|    VS1| 56.9| 65.0|  327|4.05|4.07|2.31|\n",
      "|772| 0.71|     Fair|    D|    VS2| 56.9| 65.0| 2858|5.89|5.84|3.34|\n",
      "|529|  0.7|     Good|    E|    VS1| 57.2| 59.0| 2826|5.94|5.88|3.38|\n",
      "|222|  0.7|     Good|    E|    VS1| 57.2| 62.0| 2782|5.81|5.77|3.31|\n",
      "|724| 0.34|     Good|    G|    VS2| 57.5| 61.0|  556| 4.6|4.66|2.66|\n",
      "| 96|  0.7|     Good|    E|    VS2| 57.5| 58.0| 2759|5.85| 5.9|3.38|\n",
      "|220| 0.53|Very Good|    D|   VVS2| 57.5| 64.0| 2782|5.34|5.37|3.08|\n",
      "|652| 0.73|Very Good|    E|    SI1| 57.7| 61.0| 2844|5.92|5.96|3.43|\n",
      "|191| 0.71|     Good|    F|    VS2| 57.8| 60.0| 2777|5.87| 5.9| 3.4|\n",
      "+---+-----+---------+-----+-------+-----+-----+-----+----+----+----+\n",
      "only showing top 20 rows\n",
      "\n"
     ]
    }
   ],
   "source": [
    "# Order data by groups\n",
    "df.orderBy(df.depth).show()"
   ]
  },
  {
   "cell_type": "code",
   "execution_count": 13,
   "metadata": {},
   "outputs": [],
   "source": [
    "# Create data frame as a table\n",
    "sqlContext.registerDataFrameAsTable(df, \"table1\")"
   ]
  },
  {
   "cell_type": "code",
   "execution_count": 14,
   "metadata": {},
   "outputs": [],
   "source": [
    "# Query the table which we created above by using SQL\n",
    "df2 = sqlContext.sql(\"SELECT * from table1 Where cut='Premium' and carat > 1\")"
   ]
  },
  {
   "cell_type": "code",
   "execution_count": 15,
   "metadata": {},
   "outputs": [
    {
     "name": "stdout",
     "output_type": "stream",
     "text": [
      "+----+-----+-------+-----+-------+-----+-----+-----+----+----+----+\n",
      "| _c0|carat|    cut|color|clarity|depth|table|price|   x|   y|   z|\n",
      "+----+-----+-------+-----+-------+-----+-----+-----+----+----+----+\n",
      "|1000| 1.12|Premium|    J|    SI2| 60.6| 59.0| 2898|6.68|6.61|4.03|\n",
      "| 216| 1.01|Premium|    F|     I1| 61.8| 60.0| 2781|6.39|6.36|3.94|\n",
      "| 243| 1.01|Premium|    H|    SI2| 62.7| 59.0| 2788|6.31|6.22|3.93|\n",
      "| 324| 1.04|Premium|    G|     I1| 62.2| 58.0| 2801|6.46|6.41| 4.0|\n",
      "| 445| 1.02|Premium|    G|     I1| 60.3| 58.0| 2815|6.55| 6.5|3.94|\n",
      "| 526| 1.17|Premium|    J|     I1| 60.2| 61.0| 2825| 6.9|6.83|4.13|\n",
      "| 543| 1.01|Premium|    H|    SI2| 61.6| 61.0| 2828|6.39|6.31|3.91|\n",
      "| 660| 1.27|Premium|    H|    SI2| 59.3| 61.0| 2845|7.12|7.05| 4.2|\n",
      "| 702| 1.12|Premium|    H|     I1| 59.1| 61.0| 2854|6.78|6.75| 4.0|\n",
      "| 801| 1.22|Premium|    E|     I1| 60.9| 57.0| 2862|6.93|6.88|4.21|\n",
      "| 845| 1.08|Premium|    D|     I1| 61.9| 60.0| 2869|6.55|6.48|4.03|\n",
      "| 858| 1.04|Premium|    I|     I1| 61.6| 61.0| 2870|6.47|6.45|3.98|\n",
      "| 926| 1.05|Premium|    H|     I1| 62.0| 59.0| 2881| 6.5|6.47|4.02|\n",
      "| 937| 1.01|Premium|    I|    SI1| 62.7| 60.0| 2885|6.36|6.27|3.96|\n",
      "+----+-----+-------+-----+-------+-----+-----+-----+----+----+----+\n",
      "\n"
     ]
    }
   ],
   "source": [
    "df2.show()"
   ]
  },
  {
   "cell_type": "code",
   "execution_count": 16,
   "metadata": {},
   "outputs": [],
   "source": [
    "sc.stop()"
   ]
  },
  {
   "cell_type": "code",
   "execution_count": null,
   "metadata": {},
   "outputs": [],
   "source": []
  }
 ],
 "metadata": {
  "kernelspec": {
   "display_name": "Python 3",
   "language": "python",
   "name": "python3"
  },
  "language_info": {
   "codemirror_mode": {
    "name": "ipython",
    "version": 3
   },
   "file_extension": ".py",
   "mimetype": "text/x-python",
   "name": "python",
   "nbconvert_exporter": "python",
   "pygments_lexer": "ipython3",
   "version": "3.6.8"
  }
 },
 "nbformat": 4,
 "nbformat_minor": 2
}
